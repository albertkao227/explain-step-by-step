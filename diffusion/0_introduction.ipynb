{
 "cells": [
  {
   "cell_type": "markdown",
   "id": "13cfbd96",
   "metadata": {},
   "source": [
    "# Diffusion Models \n",
    "\n",
    "Here we introduce diffusion models - not the diffusion in fluid dynamics, but in deep learning. It is one of the most popular approach to generate images with specified distribution. Specifically, we can use it to generate high-quality images that are similar to the training dataset with high diversity. \n",
    "\n",
    "The name **diffusion** came from non-equilibrium thermodynamics. In thermodynamics, diffusion describes the process of molecules disperse from highly concentrated region to a lower concentration region. "
   ]
  },
  {
   "cell_type": "markdown",
   "id": "ba4d6825",
   "metadata": {},
   "source": [
    "## Denoising Diffusion Probabilistic Models\n",
    "\n",
    "DDPM generate data by progressively denoising it through the following steps:\n",
    "\n",
    "- Forward Process (Diffusion): \n",
    "Start with a data sample and progressively add noise to it over a series of time steps, creating a sequence of increasingly noisy data.\n",
    "- Reverse Process (Denoising): \n",
    "Train a model to reverse this process, starting from pure noise and progressively removing the noise to generate a new data sample that resembles the original data distribution."
   ]
  },
  {
   "cell_type": "markdown",
   "id": "e7387117",
   "metadata": {},
   "source": [
    "## Maximum Likelihood "
   ]
  },
  {
   "cell_type": "markdown",
   "id": "674c9c04",
   "metadata": {},
   "source": [
    "## Expectation Maximization"
   ]
  }
 ],
 "metadata": {
  "kernelspec": {
   "display_name": "Python 3 (ipykernel)",
   "language": "python",
   "name": "python3"
  },
  "language_info": {
   "codemirror_mode": {
    "name": "ipython",
    "version": 3
   },
   "file_extension": ".py",
   "mimetype": "text/x-python",
   "name": "python",
   "nbconvert_exporter": "python",
   "pygments_lexer": "ipython3",
   "version": "3.10.13"
  }
 },
 "nbformat": 4,
 "nbformat_minor": 5
}
