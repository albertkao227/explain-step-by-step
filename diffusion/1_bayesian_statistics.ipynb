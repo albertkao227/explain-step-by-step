{
 "cells": [
  {
   "cell_type": "markdown",
   "id": "2bae4d4d",
   "metadata": {},
   "source": [
    "# Bayesian Statistics "
   ]
  },
  {
   "cell_type": "markdown",
   "id": "74ac2aa1",
   "metadata": {},
   "source": [
    "## Variational Bayesian Methods "
   ]
  },
  {
   "cell_type": "markdown",
   "id": "a68e0c2d",
   "metadata": {},
   "source": [
    "## KL Divergence "
   ]
  },
  {
   "cell_type": "code",
   "execution_count": null,
   "id": "a4c33f91",
   "metadata": {},
   "outputs": [],
   "source": []
  }
 ],
 "metadata": {
  "kernelspec": {
   "display_name": "Python 3 (ipykernel)",
   "language": "python",
   "name": "python3"
  },
  "language_info": {
   "codemirror_mode": {
    "name": "ipython",
    "version": 3
   },
   "file_extension": ".py",
   "mimetype": "text/x-python",
   "name": "python",
   "nbconvert_exporter": "python",
   "pygments_lexer": "ipython3",
   "version": "3.10.13"
  }
 },
 "nbformat": 4,
 "nbformat_minor": 5
}
