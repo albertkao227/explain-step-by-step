{
 "cells": [
  {
   "cell_type": "markdown",
   "id": "2bae4d4d",
   "metadata": {},
   "source": [
    "# Bayesian Statistics \n",
    "\n",
    "Bayesian statistics is a branch of statistical approaches that utilizes known information to accurately estimate true PDF. For example, the outcome of a basketball 3-pointer is binary, but we rarely think the probability of making a 3-pointer is 50%. Based on the shooter, location, basketball size, 3-pointer distance, there are information we can deduct from to give a better estimation."
   ]
  },
  {
   "cell_type": "markdown",
   "id": "74ac2aa1",
   "metadata": {},
   "source": [
    "## Variational Bayesian Methods \n",
    "\n",
    "Variational Bayesian inference is a technique used in Bayesian statistics to approximate complex posterior distributions that are difficult to compute directly. It converts the problem of inference into an optimization problem, making it more tractable, especially for high-dimensional or complex models."
   ]
  },
  {
   "cell_type": "markdown",
   "id": "e5906839",
   "metadata": {},
   "source": [
    "## KL Divergence \n",
    "\n",
    "Kullback-Leibler divergence, often referred to as KL divergence, is a measure of how one probability distribution is similar to another reference probability distribution. It is a fundamental concept in information theory and is widely used in statistics and machine learning."
   ]
  },
  {
   "cell_type": "code",
   "execution_count": null,
   "id": "417c3975",
   "metadata": {},
   "outputs": [],
   "source": []
  }
 ],
 "metadata": {
  "kernelspec": {
   "display_name": "Python 3 (ipykernel)",
   "language": "python",
   "name": "python3"
  },
  "language_info": {
   "codemirror_mode": {
    "name": "ipython",
    "version": 3
   },
   "file_extension": ".py",
   "mimetype": "text/x-python",
   "name": "python",
   "nbconvert_exporter": "python",
   "pygments_lexer": "ipython3",
   "version": "3.10.13"
  }
 },
 "nbformat": 4,
 "nbformat_minor": 5
}
