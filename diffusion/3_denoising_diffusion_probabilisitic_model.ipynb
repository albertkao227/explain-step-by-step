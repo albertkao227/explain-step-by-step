{
 "cells": [
  {
   "cell_type": "markdown",
   "id": "27b01fd7",
   "metadata": {},
   "source": [
    "# DDPM \n",
    "\n",
    "Diffusion models are **incremental** updates from one distibution to another. The overall udpate process gives the encoder decoder structure. The transition from one state to the next is realized by a denoiser.   "
   ]
  },
  {
   "cell_type": "code",
   "execution_count": null,
   "id": "e6eba0d1",
   "metadata": {},
   "outputs": [],
   "source": []
  }
 ],
 "metadata": {
  "kernelspec": {
   "display_name": "Python 3 (ipykernel)",
   "language": "python",
   "name": "python3"
  },
  "language_info": {
   "codemirror_mode": {
    "name": "ipython",
    "version": 3
   },
   "file_extension": ".py",
   "mimetype": "text/x-python",
   "name": "python",
   "nbconvert_exporter": "python",
   "pygments_lexer": "ipython3",
   "version": "3.10.13"
  }
 },
 "nbformat": 4,
 "nbformat_minor": 5
}
