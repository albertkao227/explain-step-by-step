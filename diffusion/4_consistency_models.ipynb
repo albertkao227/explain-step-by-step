{
 "cells": [
  {
   "cell_type": "markdown",
   "id": "235ec8ac",
   "metadata": {},
   "source": [
    "# Consistency Models \n",
    "\n",
    "https://arxiv.org/abs/2303.01469\n",
    "\n",
    "Consistency models are a new family of models that can generate high quality samples by directly mapping noise to data. They support fast one-step generation by design, while still allowing multistep sampling to trade compute for sample quality. They also support zero-shot data editing, such as image inpainting, colorization, and super-resolution, without requiring explicit training on these tasks. Consistency models can be trained either by **distilling** pre-trained diffusion models, or as standalone generative models altogether. "
   ]
  },
  {
   "cell_type": "code",
   "execution_count": null,
   "id": "9c96bfa6",
   "metadata": {},
   "outputs": [],
   "source": []
  }
 ],
 "metadata": {
  "kernelspec": {
   "display_name": "Python 3 (ipykernel)",
   "language": "python",
   "name": "python3"
  },
  "language_info": {
   "codemirror_mode": {
    "name": "ipython",
    "version": 3
   },
   "file_extension": ".py",
   "mimetype": "text/x-python",
   "name": "python",
   "nbconvert_exporter": "python",
   "pygments_lexer": "ipython3",
   "version": "3.10.13"
  }
 },
 "nbformat": 4,
 "nbformat_minor": 5
}
